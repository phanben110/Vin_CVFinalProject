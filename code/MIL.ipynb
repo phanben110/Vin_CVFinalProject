{
  "cells": [
    {
      "cell_type": "code",
      "source": [
        "!nvidia-smi"
      ],
      "metadata": {
        "colab": {
          "base_uri": "https://localhost:8080/"
        },
        "id": "FhR59R97Af-j",
        "outputId": "59d74170-f75d-414e-d832-2af13ff2a66a"
      },
      "execution_count": null,
      "outputs": [
        {
          "output_type": "stream",
          "name": "stdout",
          "text": [
            "Tue Sep 27 08:42:24 2022       \n",
            "+-----------------------------------------------------------------------------+\n",
            "| NVIDIA-SMI 460.32.03    Driver Version: 460.32.03    CUDA Version: 11.2     |\n",
            "|-------------------------------+----------------------+----------------------+\n",
            "| GPU  Name        Persistence-M| Bus-Id        Disp.A | Volatile Uncorr. ECC |\n",
            "| Fan  Temp  Perf  Pwr:Usage/Cap|         Memory-Usage | GPU-Util  Compute M. |\n",
            "|                               |                      |               MIG M. |\n",
            "|===============================+======================+======================|\n",
            "|   0  Tesla P100-PCIE...  Off  | 00000000:00:04.0 Off |                    0 |\n",
            "| N/A   41C    P0    39W / 250W |      0MiB / 16280MiB |      0%      Default |\n",
            "|                               |                      |                  N/A |\n",
            "+-------------------------------+----------------------+----------------------+\n",
            "                                                                               \n",
            "+-----------------------------------------------------------------------------+\n",
            "| Processes:                                                                  |\n",
            "|  GPU   GI   CI        PID   Type   Process name                  GPU Memory |\n",
            "|        ID   ID                                                   Usage      |\n",
            "|=============================================================================|\n",
            "|  No running processes found                                                 |\n",
            "+-----------------------------------------------------------------------------+\n"
          ]
        }
      ]
    },
    {
      "cell_type": "code",
      "source": [
        " !pip install -q kaggle"
      ],
      "metadata": {
        "id": "uOr0fw4UvNqm"
      },
      "execution_count": null,
      "outputs": []
    },
    {
      "cell_type": "code",
      "source": [
        "from google.colab import files"
      ],
      "metadata": {
        "id": "1ztl3dBfvyqo"
      },
      "execution_count": null,
      "outputs": []
    },
    {
      "cell_type": "code",
      "source": [
        "files.upload()"
      ],
      "metadata": {
        "id": "mqJsBQRuv19t"
      },
      "execution_count": null,
      "outputs": []
    },
    {
      "cell_type": "code",
      "source": [
        "!kaggle datasets download -d chromehenit/processed-data16-30"
      ],
      "metadata": {
        "colab": {
          "base_uri": "https://localhost:8080/"
        },
        "id": "dnxKh4inv7Q1",
        "outputId": "71293296-fe8d-4410-9566-582c1ff964bb"
      },
      "execution_count": null,
      "outputs": [
        {
          "output_type": "stream",
          "name": "stdout",
          "text": [
            "Downloading processed-data16-30.zip to /content/drive/MyDrive/Tham/mayo_strip/train_data\n",
            " 99% 2.27G/2.28G [00:20<00:00, 184MB/s]\n",
            "100% 2.28G/2.28G [00:20<00:00, 118MB/s]\n"
          ]
        }
      ]
    },
    {
      "cell_type": "code",
      "source": [
        "!ls"
      ],
      "metadata": {
        "colab": {
          "base_uri": "https://localhost:8080/"
        },
        "id": "urmzUNUZ0o6P",
        "outputId": "28de817c-e100-4e43-bf38-12e5da5625dc"
      },
      "execution_count": null,
      "outputs": [
        {
          "output_type": "stream",
          "name": "stdout",
          "text": [
            "0d718a_0_CE   54838a_0_LAA  a24fac_0_CE   f75146_0_CE\n",
            "19dd95_0_CE   616c62_1_CE   a4c7df_0_LAA  fe0cca_0_CE\n",
            "3cbdf3_0_CE   86e319_1_CE   e0b829_0_CE   processed-data16-30.zip\n",
            "41b23c_0_LAA  8781e2_0_CE   ebce5d_0_CE   tiling-image.log\n"
          ]
        }
      ]
    },
    {
      "cell_type": "code",
      "source": [
        "!unzip /content/drive/MyDrive/Tham/mayo_strip/train_data/processed-data16-30.zip "
      ],
      "metadata": {
        "id": "vLC2uejP0hxc"
      },
      "execution_count": null,
      "outputs": []
    },
    {
      "cell_type": "code",
      "source": [
        "!ls"
      ],
      "metadata": {
        "colab": {
          "base_uri": "https://localhost:8080/"
        },
        "id": "fiaoho-a1cRE",
        "outputId": "83f88288-a8d5-41d3-a586-325d820a5aca"
      },
      "execution_count": null,
      "outputs": [
        {
          "output_type": "stream",
          "name": "stdout",
          "text": [
            "0d718a_0_CE   4f49c1_0_CE   86e319_1_CE   a24fac_0_CE\tebce5d_0_CE\n",
            "19dd95_0_CE   53845a_1_LAA  8781e2_0_CE   a4c7df_0_LAA\tf75146_0_CE\n",
            "3cbdf3_0_CE   54838a_0_LAA  88623d_0_CE   af7a93_0_CE\tfad610_0_CE\n",
            "3d10be_2_CE   616c62_1_CE   8b90fa_0_CE   d7dc3e_0_CE\tfe0cca_0_CE\n",
            "41b23c_0_LAA  6fe1f2_0_CE   91fee7_0_CE   e0b829_0_CE\tprocessed-data16-30.zip\n",
            "4a1152_0_CE   821964_0_LAA  9961af_0_LAA  e9c181_0_CE\ttiling-image.log\n"
          ]
        }
      ]
    },
    {
      "cell_type": "code",
      "source": [
        "!rm processed-data16-30.zip tiling-image.log"
      ],
      "metadata": {
        "id": "cTVQMKBv1f5H"
      },
      "execution_count": null,
      "outputs": []
    },
    {
      "cell_type": "code",
      "execution_count": null,
      "metadata": {
        "colab": {
          "base_uri": "https://localhost:8080/"
        },
        "id": "Cbw3FHLvW5a-",
        "outputId": "1b76e742-e698-4507-9ac5-3ad6e08a8ffa"
      },
      "outputs": [
        {
          "output_type": "stream",
          "name": "stdout",
          "text": [
            "--2022-09-27 06:43:55--  https://kkb-production.jupyter-proxy.kaggle.net/k/106619069/eyJhbGciOiJkaXIiLCJlbmMiOiJBMTI4Q0JDLUhTMjU2IiwidHlwIjoiSldUIn0..-mnCb9xkTJSseTlbBrPMVg.WatNgruDkqn-9O5s4JYs1QX-KBRIQNyplORWucR7vqGQAbwG9XWMq8-Lvvh0KpFrcVnEiQ4XfUQxpJosSFoFYnW6zMTCv7ZOKUafGsYOP7wTRP90XMGo6WW1AL6XSc4aOOYVqQqRTOYJm08csHbFoe62CK6T9FRzscyMdryUqj43AmtIm65buyiNIjGma0zR2bU_1bIF1yOi5p41Z_UawA.DuOP7e7Jh1UMrCAPLbIuNA/proxy/files/b5aece_0_LAA.zip\n",
            "Resolving kkb-production.jupyter-proxy.kaggle.net (kkb-production.jupyter-proxy.kaggle.net)... 35.244.180.134\n",
            "Connecting to kkb-production.jupyter-proxy.kaggle.net (kkb-production.jupyter-proxy.kaggle.net)|35.244.180.134|:443... connected.\n",
            "HTTP request sent, awaiting response... 200 OK\n",
            "Length: 780390182 (744M) [application/zip]\n",
            "Saving to: ‘/content/drive2/MyDrive/Tham/mayo_strip/train_data/b5aece_0_LAA.zip’\n",
            "\n",
            "b5aece_0_LAA.zip    100%[===================>] 744.24M  44.0MB/s    in 17s     \n",
            "\n",
            "2022-09-27 06:44:13 (42.9 MB/s) - ‘/content/drive2/MyDrive/Tham/mayo_strip/train_data/b5aece_0_LAA.zip’ saved [780390182/780390182]\n",
            "\n"
          ]
        }
      ],
      "source": [
        "!wget https://kkb-production.jupyter-proxy.kaggle.net/k/106619069/eyJhbGciOiJkaXIiLCJlbmMiOiJBMTI4Q0JDLUhTMjU2IiwidHlwIjoiSldUIn0..-mnCb9xkTJSseTlbBrPMVg.WatNgruDkqn-9O5s4JYs1QX-KBRIQNyplORWucR7vqGQAbwG9XWMq8-Lvvh0KpFrcVnEiQ4XfUQxpJosSFoFYnW6zMTCv7ZOKUafGsYOP7wTRP90XMGo6WW1AL6XSc4aOOYVqQqRTOYJm08csHbFoe62CK6T9FRzscyMdryUqj43AmtIm65buyiNIjGma0zR2bU_1bIF1yOi5p41Z_UawA.DuOP7e7Jh1UMrCAPLbIuNA/proxy/files/b5aece_0_LAA.zip -P /content/drive2/MyDrive/Tham/mayo_strip/train_data"
      ]
    },
    {
      "cell_type": "code",
      "source": [
        "%cd /content/drive2/MyDrive/Tham/mayo_strip/train_data "
      ],
      "metadata": {
        "colab": {
          "base_uri": "https://localhost:8080/"
        },
        "id": "eL4I5ME3fdA1",
        "outputId": "00b2d8cb-5650-4525-ceb6-f5bc0c0550e9"
      },
      "execution_count": null,
      "outputs": [
        {
          "output_type": "stream",
          "name": "stdout",
          "text": [
            "/content/drive2/MyDrive/Tham/mayo_strip/train_data\n"
          ]
        }
      ]
    },
    {
      "cell_type": "code",
      "source": [
        "from google.colab import drive\n",
        "drive.mount('/content/drive2')"
      ],
      "metadata": {
        "colab": {
          "base_uri": "https://localhost:8080/"
        },
        "id": "r38FNwCxZR8I",
        "outputId": "20d23cdb-48d9-470e-c0bd-6c77ef4e1a7f"
      },
      "execution_count": null,
      "outputs": [
        {
          "output_type": "stream",
          "name": "stdout",
          "text": [
            "Mounted at /content/drive2\n"
          ]
        }
      ]
    },
    {
      "cell_type": "code",
      "source": [
        "!ls"
      ],
      "metadata": {
        "colab": {
          "base_uri": "https://localhost:8080/"
        },
        "id": "uj9CO5wR59df",
        "outputId": "4c2867c7-4522-47d2-899f-7c0d628aaabc"
      },
      "execution_count": null,
      "outputs": [
        {
          "output_type": "stream",
          "name": "stdout",
          "text": [
            "0d718a_0_CE\t  4a1152_0_CE\t    8781e2_0_CE   e0b829_0_CE\n",
            "19dd95_0_CE\t  4f49c1_0_CE\t    88623d_0_CE   e9c181_0_CE\n",
            "36a149_0_CE\t  53845a_1_LAA\t    8b90fa_0_CE   ebce5d_0_CE\n",
            "3ab087_0_CE\t  54838a_0_LAA\t    91fee7_0_CE   f75146_0_CE\n",
            "3cbdf3_0_CE\t  5ae30a_0_LAA.zip  9961af_0_LAA  fad610_0_CE\n",
            "3d10be_2_CE\t  5f3f01_0_CE\t    a24fac_0_CE   fe0cca_0_CE\n",
            "3d80c7_0_LAA\t  616c62_1_CE\t    a4c7df_0_LAA  __notebook_source__.ipynb\n",
            "3d80c7_0_LAA.zip  6fe1f2_0_CE\t    af7a93_0_CE\n",
            "3fe88b_0_CE\t  821964_0_LAA\t    d7dc3e_0_CE\n",
            "41b23c_0_LAA\t  86e319_1_CE\t    df543d_0_CE\n"
          ]
        }
      ]
    },
    {
      "cell_type": "code",
      "source": [
        "from google.colab import drive\n",
        "drive.mount('/content/drive2')"
      ],
      "metadata": {
        "colab": {
          "base_uri": "https://localhost:8080/"
        },
        "id": "WhVATfMLHDmO",
        "outputId": "ac58090b-375e-4e22-8798-c93690d60536"
      },
      "execution_count": null,
      "outputs": [
        {
          "output_type": "stream",
          "name": "stdout",
          "text": [
            "Mounted at /content/drive2\n"
          ]
        }
      ]
    },
    {
      "cell_type": "code",
      "source": [],
      "metadata": {
        "id": "QpniDp2gNmYu"
      },
      "execution_count": null,
      "outputs": []
    },
    {
      "cell_type": "code",
      "source": [
        "!unzip /content/drive2/MyDrive/Tham/mayo_strip/train_data/b5aece_0_LAA.zip"
      ],
      "metadata": {
        "id": "GHOZmDHpfZZt"
      },
      "execution_count": null,
      "outputs": []
    },
    {
      "cell_type": "code",
      "source": [
        "import matplotlib.pyplot as plt\n",
        "import cv2\n",
        "img = cv2.imread('/content/drive/MyDrive/Tham/mayo_strip/train_data/a4c7df_0_LAA/patch_47_52_18_26.png')\n",
        "plt.imshow(img)"
      ],
      "metadata": {
        "id": "f21-dcHUfxEO",
        "colab": {
          "base_uri": "https://localhost:8080/",
          "height": 286
        },
        "outputId": "55c720c2-783f-40f2-dc58-3ac45019fa1a"
      },
      "execution_count": null,
      "outputs": [
        {
          "output_type": "execute_result",
          "data": {
            "text/plain": [
              "<matplotlib.image.AxesImage at 0x7ff6d3f90b10>"
            ]
          },
          "metadata": {},
          "execution_count": 2
        },
        {
          "output_type": "display_data",
          "data": {
            "text/plain": [
              "<Figure size 432x288 with 1 Axes>"
            ],
            "image/png": "[encoded data removed]"
          },
          "metadata": {
            "needs_background": "light"
          }
        }
      ]
    },
    {
      "cell_type": "code",
      "execution_count": null,
      "metadata": {
        "id": "ToPD4AvEkU4n"
      },
      "outputs": [],
      "source": [
        "import cv2\n",
        "import sys\n",
        "import os\n",
        "import numpy as np\n",
        "import argparse\n",
        "import random\n",
        "import PIL.Image as Image\n",
        "import torch\n",
        "import torch.nn as nn\n",
        "import torch.optim as optim\n",
        "import torch.backends.cudnn as cudnn\n",
        "import torch.nn.functional as F\n",
        "import torch.utils.data as data\n",
        "import torchvision.transforms as transforms\n",
        "import torchvision.models as models\n",
        "class MILdataset(data.Dataset):\n",
        "    def __init__(self, data_folder, transform=None):\n",
        "        tiffs = os.listdir(data_folder)\n",
        "        self.tiff_paths = [os.path.join(data_folder, tif) for tif in tiffs]\n",
        "        self.tile_paths = []\n",
        "        self.targets = []\n",
        "        slideIDX = []\n",
        "        self.tiff_targets = []\n",
        "        for idx, p in enumerate(self.tiff_paths):\n",
        "          if p.split('_')[-1] == 'CE':\n",
        "            label = 0\n",
        "          else:\n",
        "            label = 1\n",
        "          self.tiff_targets.append(label)\n",
        "          tiles = os.listdir(p)\n",
        "          slideIDX.extend([idx] * len(tiles))\n",
        "          for t in tiles:\n",
        "            self.tile_paths.append(os.path.join(p, t))\n",
        "            self.targets.append(label)\n",
        "        self.targets = torch.LongTensor(self.targets)\n",
        "        self.slideIDX = slideIDX\n",
        "        self.mode = 1\n",
        "        self.tiff_targets = torch.LongTensor(self.tiff_targets)\n",
        "    def setmode(self,mode):\n",
        "        self.mode = mode\n",
        "    def __getitem__(self,index):\n",
        "        if self.mode == 2:\n",
        "          tile_path, target = self.t_data[index]\n",
        "          img = np.moveaxis(cv2.imread(tile_path), -1, 0)\n",
        "          img = torch.FloatTensor(img)\n",
        "          return img, target\n",
        "        if self.mode == 1:\n",
        "          img = np.moveaxis(cv2.imread(self.tile_paths[index]), -1, 0)\n",
        "          img = torch.FloatTensor(img)\n",
        "          return img\n",
        "    def __len__(self):\n",
        "        if self.mode == 1:\n",
        "          return len(self.targets)\n",
        "        elif self.mode == 2:\n",
        "          return len(self.t_data)\n",
        "    def get_targets(self):\n",
        "        return self.targets\n",
        "    def maketraindata(self, idxs):\n",
        "        self.t_data = [(self.tile_paths[x],self.targets[x]) for x in idxs]\n",
        "    def shuffletraindata(self):\n",
        "        self.t_data = random.sample(self.t_data, len(self.t_data))"
      ]
    },
    {
      "cell_type": "code",
      "execution_count": null,
      "metadata": {
        "id": "AYy7PZq_k3v8"
      },
      "outputs": [],
      "source": [
        "ce_weight = 0.4\n",
        "laa_weight = 0.6\n",
        "# ce_weight = ce_weight / (ce_weight + laa_weight)\n",
        "# laa_weight = laa_weight / (ce_weight + laa_weight)\n",
        "batch_size = 32\n",
        "workers = 0\n",
        "nepochs = 10\n",
        "MIL_k = 1"
      ]
    },
    {
      "cell_type": "code",
      "execution_count": null,
      "metadata": {
        "id": "uY9gf7j4rPVC"
      },
      "outputs": [],
      "source": [
        "model = models.resnet34(True)\n",
        "model.fc = nn.Linear(model.fc.in_features, 2)\n",
        "model.cuda()\n",
        "train_dset = MILdataset('/content/drive2/MyDrive/Tham/mayo_strip/train_data')\n",
        "train_loader = torch.utils.data.DataLoader(\n",
        "    train_dset,\n",
        "    batch_size=batch_size, shuffle=False,\n",
        "    num_workers=workers, pin_memory=False)\n",
        "\n",
        "val_dset = MILdataset('/content/drive2/MyDrive/Tham/mayo_strip/val_data')\n",
        "val_loader = torch.utils.data.DataLoader(\n",
        "    val_dset,\n",
        "    batch_size=batch_size, shuffle=False,\n",
        "    num_workers=workers, pin_memory=False)\n",
        "\n",
        "w = torch.Tensor([ce_weight, laa_weight]).cuda()\n",
        "criterion = nn.CrossEntropyLoss(w).cuda()\n",
        "\n",
        "optimizer = optim.Adam(model.parameters(), lr=1e-4, weight_decay=1e-4)\n",
        "cudnn.benchmark = True\n",
        "def inference(run, loader, model):\n",
        "    model.eval()\n",
        "    probs = torch.FloatTensor(len(loader.dataset))\n",
        "    with torch.no_grad():\n",
        "        for i, input in enumerate(loader):\n",
        "            print('Inference\\tEpoch: [{}/{}]\\tBatch: [{}/{}]'.format(run+1, nepochs, i+1, len(loader)))\n",
        "            # print(input)\n",
        "            input = input.cuda()\n",
        "            output = F.softmax(model(input), dim=1)\n",
        "            probs[i*batch_size:i*batch_size+input.size(0)] = output.detach()[:,1].clone()\n",
        "    return probs.cpu().numpy()\n",
        "\n",
        "def train(run, loader, model, criterion, optimizer):\n",
        "    model.train()\n",
        "    running_loss = 0.\n",
        "    for i, (input, target) in enumerate(loader):\n",
        "        input = input.cuda()\n",
        "        target = target.cuda()\n",
        "        output = model(input)\n",
        "        _, count = torch.unique(target, return_counts = True)\n",
        "        criterion.weight = w / count\n",
        "        loss = criterion(output, target) / torch.sum(w)\n",
        "        optimizer.zero_grad()\n",
        "        loss.backward()\n",
        "        optimizer.step()\n",
        "        running_loss += loss.item()*input.size(0)\n",
        "    return running_loss/len(loader.dataset)\n",
        "\n",
        "def calc_err(pred,real):\n",
        "    pred = np.array(pred)\n",
        "    real = np.array(real)\n",
        "    neq = np.not_equal(pred, real)\n",
        "    err = float(neq.sum())/pred.shape[0]\n",
        "    fpr = float(np.logical_and(pred==1,neq).sum())/(real==0).sum()\n",
        "    fnr = float(np.logical_and(pred==0,neq).sum())/(real==1).sum()\n",
        "    return err, fpr, fnr\n",
        "\n",
        "def group_argtopk(groups, data,k=1):\n",
        "    order = np.lexsort((data, groups))\n",
        "    groups = groups[order]\n",
        "    data = data[order]\n",
        "    index = np.empty(len(groups), 'bool')\n",
        "    index[-k:] = True\n",
        "    index[:-k] = groups[k:] != groups[:-k]\n",
        "    return list(order[index])\n",
        "\n",
        "def group_max(groups, data, nmax):\n",
        "    out = np.empty(nmax)\n",
        "    out[:] = np.nan\n",
        "    order = np.lexsort((data, groups))\n",
        "    groups = groups[order]\n",
        "    data = data[order]\n",
        "    index = np.empty(len(groups), 'bool')\n",
        "    index[-1] = True\n",
        "    index[:-1] = groups[1:] != groups[:-1]\n",
        "    out[groups[index]] = data[index]\n",
        "    return out\n",
        "best_acc = 0\n",
        "for epoch in range(nepochs):\n",
        "    train_dset.setmode(1)\n",
        "    probs = inference(epoch, train_loader, model)\n",
        "    topk = group_argtopk(np.array(train_dset.slideIDX), probs, MIL_k)\n",
        "    train_dset.maketraindata(topk)\n",
        "    train_dset.shuffletraindata()\n",
        "    train_dset.setmode(2)\n",
        "    loss = train(epoch, train_loader, model, criterion, optimizer)\n",
        "    print('Training\\tEpoch: [{}/{}]\\tLoss: {}'.format(epoch+1, nepochs, loss))\n",
        "    fconv = open(os.path.join('/content/drive2/MyDrive/Tham/mayo_strip/output', 'convergence.csv'), 'a')\n",
        "    fconv.write('{},loss,{}\\n'.format(epoch+1,loss))\n",
        "    fconv.close()\n",
        "\n",
        "    val_dset.setmode(1)\n",
        "    probs = inference(epoch, val_loader, model)\n",
        "    maxs = group_max(np.array(val_dset.slideIDX), probs, len(val_dset.tiff_targets))\n",
        "    pred = [1 if x >= 0.5 else 0 for x in maxs]\n",
        "    err,fpr,fnr = calc_err(pred, val_dset.tiff_targets)\n",
        "    print('Validation\\tEpoch: [{}/{}]\\tError: {}\\tFPR: {}\\tFNR: {}'.format(epoch+1,nepochs, err, fpr, fnr))\n",
        "    fconv = open(os.path.join('/content/drive2/MyDrive/Tham/mayo_strip/output', 'convergence.csv'), 'a')\n",
        "    fconv.write('{},error,{}\\n'.format(epoch+1, err))\n",
        "    fconv.write('{},fpr,{}\\n'.format(epoch+1, fpr))\n",
        "    fconv.write('{},fnr,{}\\n'.format(epoch+1, fnr))\n",
        "    fconv.close()\n",
        "    #Save best model\n",
        "    err = (fpr+fnr)/2.\n",
        "    if 1-err >= best_acc:\n",
        "        best_acc = 1-err\n",
        "        obj = {\n",
        "            'epoch': epoch+1,\n",
        "            'state_dict': model.state_dict(),\n",
        "            'best_acc': best_acc,\n",
        "            'optimizer' : optimizer.state_dict()\n",
        "        }\n",
        "        torch.save(obj, os.path.join('/content/drive2/MyDrive/Tham/mayo_strip/output','checkpoint_best.pth'))\n"
      ]
    },
    {
      "cell_type": "code",
      "source": [
        "torch.save(obj, os.path.join('/content/drive2/MyDrive/Tham/mayo_strip/output','checkpoint_best.pth'))"
      ],
      "metadata": {
        "id": "AFvRY6_iGREQ"
      },
      "execution_count": null,
      "outputs": []
    },
    {
      "cell_type": "code",
      "source": [
        "def calc_err(pred,real):\n",
        "    print(pred, real)\n",
        "    pred = np.array(pred)\n",
        "    real = np.array(real)\n",
        "    neq = np.not_equal(pred, real)\n",
        "    err = float(neq.sum())/pred.shape[0]\n",
        "    fpr = float(np.logical_and(pred==1,neq).sum())/(real==0).sum()\n",
        "    fnr = float(np.logical_and(pred==0,neq).sum())/(real==1).sum()\n",
        "    return err, fpr, fnr"
      ],
      "metadata": {
        "id": "8HaoS_9ebtr6"
      },
      "execution_count": null,
      "outputs": []
    },
    {
      "cell_type": "code",
      "source": [
        "print(val_dset.tiff_targets)"
      ],
      "metadata": {
        "colab": {
          "base_uri": "https://localhost:8080/"
        },
        "id": "giYWw2E_b-PP",
        "outputId": "d4c537b4-27a7-43be-f9e3-08099d751b38"
      },
      "execution_count": null,
      "outputs": [
        {
          "output_type": "stream",
          "name": "stdout",
          "text": [
            "tensor([1, 1, 1, 1, 1, 1, 1, 1])\n"
          ]
        }
      ]
    },
    {
      "cell_type": "code",
      "source": [
        "err,fpr,fnr = calc_err([0], torch.Tensor([1]))\n",
        "print('Validation\\tEpoch: [{}/{}]\\tError: {}\\tFPR: {}\\tFNR: {}'.format(epoch+1,nepochs, err, fpr, fnr))"
      ],
      "metadata": {
        "colab": {
          "base_uri": "https://localhost:8080/"
        },
        "id": "nTaeJymYbwbr",
        "outputId": "37dcf231-c5c9-4037-a36a-2c417bc016b0"
      },
      "execution_count": null,
      "outputs": [
        {
          "output_type": "stream",
          "name": "stdout",
          "text": [
            "[0] tensor([1.])\n",
            "Validation\tEpoch: [1/10]\tError: 1.0\tFPR: nan\tFNR: 1.0\n"
          ]
        },
        {
          "output_type": "stream",
          "name": "stderr",
          "text": [
            "/usr/local/lib/python3.7/dist-packages/ipykernel_launcher.py:7: RuntimeWarning: invalid value encountered in true_divide\n",
            "  import sys\n"
          ]
        }
      ]
    },
    {
      "cell_type": "code",
      "source": [
        "best_acc = 0\n",
        "print(err)\n",
        "if 1-err >= best_acc:\n",
        "  print(err)\n",
        "  best_acc = 1-err\n",
        "  obj = {\n",
        "      'epoch': epoch+1,\n",
        "      'state_dict': model.state_dict(),\n",
        "      'best_acc': best_acc,\n",
        "      'optimizer' : optimizer.state_dict()\n",
        "  }\n",
        "  torch.save(obj, os.path.join('/content/drive/MyDrive/Tham/mayo_strip/output','checkpoint_best.pth'))"
      ],
      "metadata": {
        "colab": {
          "base_uri": "https://localhost:8080/"
        },
        "id": "BH101HKUbYwK",
        "outputId": "57ad98da-9f60-48bb-ffe7-eeae40384e06"
      },
      "execution_count": null,
      "outputs": [
        {
          "output_type": "stream",
          "name": "stdout",
          "text": [
            "nan\n"
          ]
        }
      ]
    },
    {
      "cell_type": "markdown",
      "metadata": {
        "id": "YMy8QtJB11ik"
      },
      "source": [
        "Hàm loss của cuộc thi chính là hàm: CrossEntropyLoss với weight = weight / count"
      ]
    },
    {
      "cell_type": "code",
      "execution_count": null,
      "metadata": {
        "colab": {
          "base_uri": "https://localhost:8080/"
        },
        "id": "fiFPBWPXm1qC",
        "outputId": "1505f4ad-581a-42ce-92d0-0ecf97ab86eb"
      },
      "outputs": [
        {
          "data": {
            "text/plain": [
              "tensor(-0.4143)"
            ]
          },
          "execution_count": 62,
          "metadata": {},
          "output_type": "execute_result"
        }
      ],
      "source": [
        "w = torch.Tensor([0.6, 1.5])\n",
        "_, count = torch.unique(target, return_counts = True)\n",
        "criterion = nn.NLLLoss(w / count) \n",
        "loss = criterion(output, target)\n",
        "loss"
      ]
    },
    {
      "cell_type": "code",
      "execution_count": null,
      "metadata": {
        "id": "_-HRvC6I4v8o"
      },
      "outputs": [],
      "source": [
        "criterion.weight = w"
      ]
    },
    {
      "cell_type": "code",
      "execution_count": null,
      "metadata": {
        "colab": {
          "base_uri": "https://localhost:8080/"
        },
        "id": "YFfbL2yp41g2",
        "outputId": "cfdff22f-a18a-49a4-99c2-3f7a384b9b13"
      },
      "outputs": [
        {
          "data": {
            "text/plain": [
              "tensor(-0.4105)"
            ]
          },
          "execution_count": 60,
          "metadata": {},
          "output_type": "execute_result"
        }
      ],
      "source": [
        "loss = criterion(output, target)\n",
        "loss"
      ]
    },
    {
      "cell_type": "code",
      "execution_count": null,
      "metadata": {
        "colab": {
          "base_uri": "https://localhost:8080/"
        },
        "id": "-w2veJcny1x4",
        "outputId": "bce60ae2-fe78-419f-a193-a886b0ebf856"
      },
      "outputs": [
        {
          "data": {
            "text/plain": [
              "tensor(0.4143)"
            ]
          },
          "execution_count": 56,
          "metadata": {},
          "output_type": "execute_result"
        }
      ],
      "source": [
        "(0.1 * 0.5 + 0.5 * 0.3 + 0.3 * 0.5+ 0.4 * 0.3+ 0.8 * 0.5) / torch.sum(w)"
      ]
    }
  ],
  "metadata": {
    "colab": {
      "provenance": [],
      "collapsed_sections": []
    },
    "kernelspec": {
      "display_name": "Python 3",
      "name": "python3"
    },
    "language_info": {
      "name": "python"
    },
    "accelerator": "GPU"
  },
  "nbformat": 4,
  "nbformat_minor": 0
}